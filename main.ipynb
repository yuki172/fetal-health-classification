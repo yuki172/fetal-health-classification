{
 "cells": [
  {
   "cell_type": "markdown",
   "id": "bf330cda-2568-492b-82cc-5c97cf798e73",
   "metadata": {},
   "source": [
    "<div style=\"font-size: 30px\"><b>Data Sources</b></div>"
   ]
  },
  {
   "cell_type": "markdown",
   "id": "f01ffedd-a9ba-469d-9a36-f1851a3c87f5",
   "metadata": {},
   "source": [
    "This project uses the Fetal Health dataset from https://www.kaggle.com/datasets/andrewmvd/fetal-health-classification. \n",
    "\n",
    "As required by the data source, we cite the following article\n",
    "\n",
    "<i>Ayres de Campos et al. (2000) SisPorto 2.0 A Program for Automated Analysis of Cardiotocograms. J Matern Fetal Med 5:311-318</i>"
   ]
  },
  {
   "cell_type": "markdown",
   "id": "78c9fbc8-8179-4806-90a4-41351f3b4ebb",
   "metadata": {},
   "source": [
    "<div style=\"font-size: 30px\"><b>Project Objectives</b></div>"
   ]
  },
  {
   "cell_type": "markdown",
   "id": "3945b35c-22ad-4c57-9553-7956a0cadd5d",
   "metadata": {},
   "source": [
    "<div style=\"font-size: 20px\">The dataset contains observation records of Cardiotocogram (CTG) exams which are used to assess fetal health. The health state of each record is assigned by obstetritians into one of three classes: <b>normal</b>, <b>suspect</b> and <b>pathological</b>. The goal of this project is to explore the relationship between the CTG observation features with the health state and develop classification models that infer the latter from exam results.</div>"
   ]
  },
  {
   "cell_type": "markdown",
   "id": "0391d069-4d09-45c6-ae5d-2aeb9383c280",
   "metadata": {},
   "source": [
    "<div style=\"font-size: 30px\"><b>Feature Details</b></div>"
   ]
  },
  {
   "cell_type": "markdown",
   "id": "f4b6ab9d-841b-48ce-8b03-c2d2d145b276",
   "metadata": {},
   "source": [
    "<div style=\"border: 1px solid lightgrey; padding: 12px\" ><div><b>baseline value</b>: Baseline Fetal Heart Rate</div>\n",
    "<div><b>accelerations</b>: Number of short-term increases in a fetus's heart rate per second</div>\n",
    "<div><b>fetal_movement</b>: Number of fetal movements per second</div>\n",
    "<div><b>uterine_contractions</b>: Number of uterine contractions per second</div>\n",
    "<div style=\"margin-top: 10px\">\n",
    "For the following 3 variables, note that decelerations are descreases in fetal heart rate.\n",
    "<div><b>light_decelerations</b>: Number of light decelerations per second</div>\n",
    "<div><b>severe_decelerations</b>: Number of severe decelerations per second. A servere deceleration is a drop in FHR that's more than 60 beats per minute (bpm) below baseline, lasting at least 60 seconds but less than two minutes</div>\n",
    "<div><b>prolongued_decelerations</b>: Number of prolongued decelerations per second. A prolongued deceleration is an abnormal drop in the FHR that lasts longer than two minutes but less than 10 minutes</div>\n",
    "<div><b>abnormal_short_term_variability</b>: Percentage of time with abnormal short term variability. Abnormal short term variability is the oscillation of the FHR around its baseline in amplitude of 5 to 10 beats per minute (bpm) over a 10-minute window. I</div>\n",
    "<div><b>mean_value_of_short_term_variability</b>: Mean value of short term variability</div>\n",
    "<div><b>percentage_of_time_with_abnormal_long_term_variability</b>: Percentage of time with abnormal long term variability. Abnormal long term variability refers to irregular fluctuations in amplitude and frequency of a heart rate's baseline over several days, weeks, or months</div>\n",
    "<div><b>mean_value_of_long_term_variability</b>: Mean value of long term variability</div>\n",
    "</div>\n",
    "<div style=\"margin-top: 10px\">\n",
    "For all histogram related features, the histogram in question is that of the fetal heart rate measurements in the exam.\n",
    "<div><b>histogram_width</b>: Width of the histogram made using all values from a record</div>\n",
    "<div><b>histogram_min</b>: Histogram minimum value</div>\n",
    "<div><b>histogram_max</b>: Histogram maximum value</div>\n",
    "<div><b>histogram_number_of_peaks</b>: Number of peaks in the exam histogram</div>\n",
    "<div><b>histogram_number_of_zeroes</b>: Number of zeroes in the exam histogram</div>\n",
    "<div><b>histogram_mode</b>: Histogram mode</div>\n",
    "<div><b>histogram_mean</b>: Histogram mean</div>\n",
    "<div><b>histogram_median</b>: Histogram median</div>\n",
    "<div><b>histogram_variance</b>: Histogram variance</div>\n",
    "<div><b>histogram_tendency</b>: Histogram tendency</div>\n",
    "<div><b>fetal_health</b>: number representing the health class 1 (normal), 2 (suspect) or 3 (pathological) </div>\n",
    "</div>\n",
    "</div>"
   ]
  },
  {
   "cell_type": "markdown",
   "id": "d6a06940-1430-44da-993d-3baa8c16d27e",
   "metadata": {},
   "source": [
    "<div style=\"font-size: 30px\"><b>Explorative Data Analysis</b></div>"
   ]
  },
  {
   "cell_type": "code",
   "execution_count": 249,
   "id": "94d8ef69-940d-4f06-b778-2f3b77e825d6",
   "metadata": {},
   "outputs": [],
   "source": [
    "import pandas as pd\n",
    "import numpy as np\n",
    "import seaborn as sns\n",
    "import matplotlib.pyplot as plt\n",
    "%matplotlib inline\n",
    "import seaborn as sns"
   ]
  },
  {
   "cell_type": "code",
   "execution_count": 250,
   "id": "a59b2be4-3b26-4c7a-9f34-726ce68ddd08",
   "metadata": {},
   "outputs": [],
   "source": [
    "health_data = pd.read_csv('fetal_health.csv')"
   ]
  },
  {
   "cell_type": "code",
   "execution_count": 251,
   "id": "2e5a8055-c2ab-4201-9c42-8f4e91d7af28",
   "metadata": {},
   "outputs": [
    {
     "data": {
      "text/plain": [
       "(2126, 22)"
      ]
     },
     "execution_count": 251,
     "metadata": {},
     "output_type": "execute_result"
    }
   ],
   "source": [
    "health_data.shape"
   ]
  },
  {
   "cell_type": "code",
   "execution_count": 252,
   "id": "55d89e85-fc37-4312-9c53-f38e54f5d0b7",
   "metadata": {},
   "outputs": [
    {
     "data": {
      "text/plain": [
       "baseline value                                            float64\n",
       "accelerations                                             float64\n",
       "fetal_movement                                            float64\n",
       "uterine_contractions                                      float64\n",
       "light_decelerations                                       float64\n",
       "severe_decelerations                                      float64\n",
       "prolongued_decelerations                                  float64\n",
       "abnormal_short_term_variability                           float64\n",
       "mean_value_of_short_term_variability                      float64\n",
       "percentage_of_time_with_abnormal_long_term_variability    float64\n",
       "mean_value_of_long_term_variability                       float64\n",
       "histogram_width                                           float64\n",
       "histogram_min                                             float64\n",
       "histogram_max                                             float64\n",
       "histogram_number_of_peaks                                 float64\n",
       "histogram_number_of_zeroes                                float64\n",
       "histogram_mode                                            float64\n",
       "histogram_mean                                            float64\n",
       "histogram_median                                          float64\n",
       "histogram_variance                                        float64\n",
       "histogram_tendency                                        float64\n",
       "fetal_health                                              float64\n",
       "dtype: object"
      ]
     },
     "execution_count": 252,
     "metadata": {},
     "output_type": "execute_result"
    }
   ],
   "source": [
    "health_data.dtypes"
   ]
  },
  {
   "cell_type": "code",
   "execution_count": 253,
   "id": "5d14b33c-b803-424a-897e-bf7af17b6a55",
   "metadata": {},
   "outputs": [
    {
     "data": {
      "text/html": [
       "<div>\n",
       "<style scoped>\n",
       "    .dataframe tbody tr th:only-of-type {\n",
       "        vertical-align: middle;\n",
       "    }\n",
       "\n",
       "    .dataframe tbody tr th {\n",
       "        vertical-align: top;\n",
       "    }\n",
       "\n",
       "    .dataframe thead th {\n",
       "        text-align: right;\n",
       "    }\n",
       "</style>\n",
       "<table border=\"1\" class=\"dataframe\">\n",
       "  <thead>\n",
       "    <tr style=\"text-align: right;\">\n",
       "      <th></th>\n",
       "      <th>count</th>\n",
       "      <th>mean</th>\n",
       "      <th>std</th>\n",
       "      <th>min</th>\n",
       "      <th>25%</th>\n",
       "      <th>50%</th>\n",
       "      <th>75%</th>\n",
       "      <th>max</th>\n",
       "    </tr>\n",
       "  </thead>\n",
       "  <tbody>\n",
       "    <tr>\n",
       "      <th>baseline value</th>\n",
       "      <td>2126.0</td>\n",
       "      <td>133.303857</td>\n",
       "      <td>9.840844</td>\n",
       "      <td>106.0</td>\n",
       "      <td>126.000</td>\n",
       "      <td>133.000</td>\n",
       "      <td>140.000</td>\n",
       "      <td>160.000</td>\n",
       "    </tr>\n",
       "    <tr>\n",
       "      <th>accelerations</th>\n",
       "      <td>2126.0</td>\n",
       "      <td>0.003178</td>\n",
       "      <td>0.003866</td>\n",
       "      <td>0.0</td>\n",
       "      <td>0.000</td>\n",
       "      <td>0.002</td>\n",
       "      <td>0.006</td>\n",
       "      <td>0.019</td>\n",
       "    </tr>\n",
       "    <tr>\n",
       "      <th>fetal_movement</th>\n",
       "      <td>2126.0</td>\n",
       "      <td>0.009481</td>\n",
       "      <td>0.046666</td>\n",
       "      <td>0.0</td>\n",
       "      <td>0.000</td>\n",
       "      <td>0.000</td>\n",
       "      <td>0.003</td>\n",
       "      <td>0.481</td>\n",
       "    </tr>\n",
       "    <tr>\n",
       "      <th>uterine_contractions</th>\n",
       "      <td>2126.0</td>\n",
       "      <td>0.004366</td>\n",
       "      <td>0.002946</td>\n",
       "      <td>0.0</td>\n",
       "      <td>0.002</td>\n",
       "      <td>0.004</td>\n",
       "      <td>0.007</td>\n",
       "      <td>0.015</td>\n",
       "    </tr>\n",
       "    <tr>\n",
       "      <th>light_decelerations</th>\n",
       "      <td>2126.0</td>\n",
       "      <td>0.001889</td>\n",
       "      <td>0.002960</td>\n",
       "      <td>0.0</td>\n",
       "      <td>0.000</td>\n",
       "      <td>0.000</td>\n",
       "      <td>0.003</td>\n",
       "      <td>0.015</td>\n",
       "    </tr>\n",
       "    <tr>\n",
       "      <th>severe_decelerations</th>\n",
       "      <td>2126.0</td>\n",
       "      <td>0.000003</td>\n",
       "      <td>0.000057</td>\n",
       "      <td>0.0</td>\n",
       "      <td>0.000</td>\n",
       "      <td>0.000</td>\n",
       "      <td>0.000</td>\n",
       "      <td>0.001</td>\n",
       "    </tr>\n",
       "    <tr>\n",
       "      <th>prolongued_decelerations</th>\n",
       "      <td>2126.0</td>\n",
       "      <td>0.000159</td>\n",
       "      <td>0.000590</td>\n",
       "      <td>0.0</td>\n",
       "      <td>0.000</td>\n",
       "      <td>0.000</td>\n",
       "      <td>0.000</td>\n",
       "      <td>0.005</td>\n",
       "    </tr>\n",
       "    <tr>\n",
       "      <th>abnormal_short_term_variability</th>\n",
       "      <td>2126.0</td>\n",
       "      <td>46.990122</td>\n",
       "      <td>17.192814</td>\n",
       "      <td>12.0</td>\n",
       "      <td>32.000</td>\n",
       "      <td>49.000</td>\n",
       "      <td>61.000</td>\n",
       "      <td>87.000</td>\n",
       "    </tr>\n",
       "    <tr>\n",
       "      <th>mean_value_of_short_term_variability</th>\n",
       "      <td>2126.0</td>\n",
       "      <td>1.332785</td>\n",
       "      <td>0.883241</td>\n",
       "      <td>0.2</td>\n",
       "      <td>0.700</td>\n",
       "      <td>1.200</td>\n",
       "      <td>1.700</td>\n",
       "      <td>7.000</td>\n",
       "    </tr>\n",
       "    <tr>\n",
       "      <th>percentage_of_time_with_abnormal_long_term_variability</th>\n",
       "      <td>2126.0</td>\n",
       "      <td>9.846660</td>\n",
       "      <td>18.396880</td>\n",
       "      <td>0.0</td>\n",
       "      <td>0.000</td>\n",
       "      <td>0.000</td>\n",
       "      <td>11.000</td>\n",
       "      <td>91.000</td>\n",
       "    </tr>\n",
       "    <tr>\n",
       "      <th>mean_value_of_long_term_variability</th>\n",
       "      <td>2126.0</td>\n",
       "      <td>8.187629</td>\n",
       "      <td>5.628247</td>\n",
       "      <td>0.0</td>\n",
       "      <td>4.600</td>\n",
       "      <td>7.400</td>\n",
       "      <td>10.800</td>\n",
       "      <td>50.700</td>\n",
       "    </tr>\n",
       "    <tr>\n",
       "      <th>histogram_width</th>\n",
       "      <td>2126.0</td>\n",
       "      <td>70.445908</td>\n",
       "      <td>38.955693</td>\n",
       "      <td>3.0</td>\n",
       "      <td>37.000</td>\n",
       "      <td>67.500</td>\n",
       "      <td>100.000</td>\n",
       "      <td>180.000</td>\n",
       "    </tr>\n",
       "    <tr>\n",
       "      <th>histogram_min</th>\n",
       "      <td>2126.0</td>\n",
       "      <td>93.579492</td>\n",
       "      <td>29.560212</td>\n",
       "      <td>50.0</td>\n",
       "      <td>67.000</td>\n",
       "      <td>93.000</td>\n",
       "      <td>120.000</td>\n",
       "      <td>159.000</td>\n",
       "    </tr>\n",
       "    <tr>\n",
       "      <th>histogram_max</th>\n",
       "      <td>2126.0</td>\n",
       "      <td>164.025400</td>\n",
       "      <td>17.944183</td>\n",
       "      <td>122.0</td>\n",
       "      <td>152.000</td>\n",
       "      <td>162.000</td>\n",
       "      <td>174.000</td>\n",
       "      <td>238.000</td>\n",
       "    </tr>\n",
       "    <tr>\n",
       "      <th>histogram_number_of_peaks</th>\n",
       "      <td>2126.0</td>\n",
       "      <td>4.068203</td>\n",
       "      <td>2.949386</td>\n",
       "      <td>0.0</td>\n",
       "      <td>2.000</td>\n",
       "      <td>3.000</td>\n",
       "      <td>6.000</td>\n",
       "      <td>18.000</td>\n",
       "    </tr>\n",
       "    <tr>\n",
       "      <th>histogram_number_of_zeroes</th>\n",
       "      <td>2126.0</td>\n",
       "      <td>0.323612</td>\n",
       "      <td>0.706059</td>\n",
       "      <td>0.0</td>\n",
       "      <td>0.000</td>\n",
       "      <td>0.000</td>\n",
       "      <td>0.000</td>\n",
       "      <td>10.000</td>\n",
       "    </tr>\n",
       "    <tr>\n",
       "      <th>histogram_mode</th>\n",
       "      <td>2126.0</td>\n",
       "      <td>137.452023</td>\n",
       "      <td>16.381289</td>\n",
       "      <td>60.0</td>\n",
       "      <td>129.000</td>\n",
       "      <td>139.000</td>\n",
       "      <td>148.000</td>\n",
       "      <td>187.000</td>\n",
       "    </tr>\n",
       "    <tr>\n",
       "      <th>histogram_mean</th>\n",
       "      <td>2126.0</td>\n",
       "      <td>134.610536</td>\n",
       "      <td>15.593596</td>\n",
       "      <td>73.0</td>\n",
       "      <td>125.000</td>\n",
       "      <td>136.000</td>\n",
       "      <td>145.000</td>\n",
       "      <td>182.000</td>\n",
       "    </tr>\n",
       "    <tr>\n",
       "      <th>histogram_median</th>\n",
       "      <td>2126.0</td>\n",
       "      <td>138.090310</td>\n",
       "      <td>14.466589</td>\n",
       "      <td>77.0</td>\n",
       "      <td>129.000</td>\n",
       "      <td>139.000</td>\n",
       "      <td>148.000</td>\n",
       "      <td>186.000</td>\n",
       "    </tr>\n",
       "    <tr>\n",
       "      <th>histogram_variance</th>\n",
       "      <td>2126.0</td>\n",
       "      <td>18.808090</td>\n",
       "      <td>28.977636</td>\n",
       "      <td>0.0</td>\n",
       "      <td>2.000</td>\n",
       "      <td>7.000</td>\n",
       "      <td>24.000</td>\n",
       "      <td>269.000</td>\n",
       "    </tr>\n",
       "    <tr>\n",
       "      <th>histogram_tendency</th>\n",
       "      <td>2126.0</td>\n",
       "      <td>0.320320</td>\n",
       "      <td>0.610829</td>\n",
       "      <td>-1.0</td>\n",
       "      <td>0.000</td>\n",
       "      <td>0.000</td>\n",
       "      <td>1.000</td>\n",
       "      <td>1.000</td>\n",
       "    </tr>\n",
       "    <tr>\n",
       "      <th>fetal_health</th>\n",
       "      <td>2126.0</td>\n",
       "      <td>1.304327</td>\n",
       "      <td>0.614377</td>\n",
       "      <td>1.0</td>\n",
       "      <td>1.000</td>\n",
       "      <td>1.000</td>\n",
       "      <td>1.000</td>\n",
       "      <td>3.000</td>\n",
       "    </tr>\n",
       "  </tbody>\n",
       "</table>\n",
       "</div>"
      ],
      "text/plain": [
       "                                                     count        mean  \\\n",
       "baseline value                                      2126.0  133.303857   \n",
       "accelerations                                       2126.0    0.003178   \n",
       "fetal_movement                                      2126.0    0.009481   \n",
       "uterine_contractions                                2126.0    0.004366   \n",
       "light_decelerations                                 2126.0    0.001889   \n",
       "severe_decelerations                                2126.0    0.000003   \n",
       "prolongued_decelerations                            2126.0    0.000159   \n",
       "abnormal_short_term_variability                     2126.0   46.990122   \n",
       "mean_value_of_short_term_variability                2126.0    1.332785   \n",
       "percentage_of_time_with_abnormal_long_term_vari...  2126.0    9.846660   \n",
       "mean_value_of_long_term_variability                 2126.0    8.187629   \n",
       "histogram_width                                     2126.0   70.445908   \n",
       "histogram_min                                       2126.0   93.579492   \n",
       "histogram_max                                       2126.0  164.025400   \n",
       "histogram_number_of_peaks                           2126.0    4.068203   \n",
       "histogram_number_of_zeroes                          2126.0    0.323612   \n",
       "histogram_mode                                      2126.0  137.452023   \n",
       "histogram_mean                                      2126.0  134.610536   \n",
       "histogram_median                                    2126.0  138.090310   \n",
       "histogram_variance                                  2126.0   18.808090   \n",
       "histogram_tendency                                  2126.0    0.320320   \n",
       "fetal_health                                        2126.0    1.304327   \n",
       "\n",
       "                                                          std    min      25%  \\\n",
       "baseline value                                       9.840844  106.0  126.000   \n",
       "accelerations                                        0.003866    0.0    0.000   \n",
       "fetal_movement                                       0.046666    0.0    0.000   \n",
       "uterine_contractions                                 0.002946    0.0    0.002   \n",
       "light_decelerations                                  0.002960    0.0    0.000   \n",
       "severe_decelerations                                 0.000057    0.0    0.000   \n",
       "prolongued_decelerations                             0.000590    0.0    0.000   \n",
       "abnormal_short_term_variability                     17.192814   12.0   32.000   \n",
       "mean_value_of_short_term_variability                 0.883241    0.2    0.700   \n",
       "percentage_of_time_with_abnormal_long_term_vari...  18.396880    0.0    0.000   \n",
       "mean_value_of_long_term_variability                  5.628247    0.0    4.600   \n",
       "histogram_width                                     38.955693    3.0   37.000   \n",
       "histogram_min                                       29.560212   50.0   67.000   \n",
       "histogram_max                                       17.944183  122.0  152.000   \n",
       "histogram_number_of_peaks                            2.949386    0.0    2.000   \n",
       "histogram_number_of_zeroes                           0.706059    0.0    0.000   \n",
       "histogram_mode                                      16.381289   60.0  129.000   \n",
       "histogram_mean                                      15.593596   73.0  125.000   \n",
       "histogram_median                                    14.466589   77.0  129.000   \n",
       "histogram_variance                                  28.977636    0.0    2.000   \n",
       "histogram_tendency                                   0.610829   -1.0    0.000   \n",
       "fetal_health                                         0.614377    1.0    1.000   \n",
       "\n",
       "                                                        50%      75%      max  \n",
       "baseline value                                      133.000  140.000  160.000  \n",
       "accelerations                                         0.002    0.006    0.019  \n",
       "fetal_movement                                        0.000    0.003    0.481  \n",
       "uterine_contractions                                  0.004    0.007    0.015  \n",
       "light_decelerations                                   0.000    0.003    0.015  \n",
       "severe_decelerations                                  0.000    0.000    0.001  \n",
       "prolongued_decelerations                              0.000    0.000    0.005  \n",
       "abnormal_short_term_variability                      49.000   61.000   87.000  \n",
       "mean_value_of_short_term_variability                  1.200    1.700    7.000  \n",
       "percentage_of_time_with_abnormal_long_term_vari...    0.000   11.000   91.000  \n",
       "mean_value_of_long_term_variability                   7.400   10.800   50.700  \n",
       "histogram_width                                      67.500  100.000  180.000  \n",
       "histogram_min                                        93.000  120.000  159.000  \n",
       "histogram_max                                       162.000  174.000  238.000  \n",
       "histogram_number_of_peaks                             3.000    6.000   18.000  \n",
       "histogram_number_of_zeroes                            0.000    0.000   10.000  \n",
       "histogram_mode                                      139.000  148.000  187.000  \n",
       "histogram_mean                                      136.000  145.000  182.000  \n",
       "histogram_median                                    139.000  148.000  186.000  \n",
       "histogram_variance                                    7.000   24.000  269.000  \n",
       "histogram_tendency                                    0.000    1.000    1.000  \n",
       "fetal_health                                          1.000    1.000    3.000  "
      ]
     },
     "execution_count": 253,
     "metadata": {},
     "output_type": "execute_result"
    }
   ],
   "source": [
    "health_data.describe().T"
   ]
  },
  {
   "cell_type": "markdown",
   "id": "8bc0c49e-b64d-417d-bc0b-6f3ea16a96d6",
   "metadata": {},
   "source": [
    "<div style=\"font-size: 25px\"><b>Missing Data</b></div>"
   ]
  },
  {
   "cell_type": "code",
   "execution_count": 254,
   "id": "3a987aca-0fc3-43af-b800-979ebd3d5c95",
   "metadata": {},
   "outputs": [
    {
     "data": {
      "text/plain": [
       "baseline value                                            0\n",
       "accelerations                                             0\n",
       "fetal_movement                                            0\n",
       "uterine_contractions                                      0\n",
       "light_decelerations                                       0\n",
       "severe_decelerations                                      0\n",
       "prolongued_decelerations                                  0\n",
       "abnormal_short_term_variability                           0\n",
       "mean_value_of_short_term_variability                      0\n",
       "percentage_of_time_with_abnormal_long_term_variability    0\n",
       "mean_value_of_long_term_variability                       0\n",
       "histogram_width                                           0\n",
       "histogram_min                                             0\n",
       "histogram_max                                             0\n",
       "histogram_number_of_peaks                                 0\n",
       "histogram_number_of_zeroes                                0\n",
       "histogram_mode                                            0\n",
       "histogram_mean                                            0\n",
       "histogram_median                                          0\n",
       "histogram_variance                                        0\n",
       "histogram_tendency                                        0\n",
       "fetal_health                                              0\n",
       "dtype: int64"
      ]
     },
     "execution_count": 254,
     "metadata": {},
     "output_type": "execute_result"
    }
   ],
   "source": [
    "health_data.isna().sum()"
   ]
  },
  {
   "cell_type": "markdown",
   "id": "c83f3a84-dc2a-4bfc-b9fa-181b9507b6a7",
   "metadata": {},
   "source": [
    "There are no missing values in any columns."
   ]
  },
  {
   "cell_type": "markdown",
   "id": "3e2a1d34-6718-41b5-b222-345ca76e24c7",
   "metadata": {},
   "source": [
    "<div style=\"font-size: 25px\"><b>Target Variable</b></div>"
   ]
  },
  {
   "cell_type": "markdown",
   "id": "6e380fa9-69ed-4497-9c6e-d89b4bee3b1b",
   "metadata": {},
   "source": [
    "<div>The target variable is fetal_health which is represented by numeric values (1 for normal, 2 for suspect and 3 for pathological). The first concern is whether we should to view this as a regression problem or classification problem. </div>"
   ]
  },
  {
   "cell_type": "markdown",
   "id": "1637e64b-dfa7-44e5-b1ad-b1ba8aa7139b",
   "metadata": {},
   "source": [
    "<div>\n",
    "Even though fetal_health is encoded as numeric values, the question we need to ask is, if we view it as the target in a regression problem, do the original classes correspond to varied levels of severity as the numbers represent. For example, does a record being suspect mean that it lies between normal and pathological?\n",
    "</div>"
   ]
  },
  {
   "cell_type": "markdown",
   "id": "d61f5904-30f9-4b2c-8cad-7ffa7fb29899",
   "metadata": {},
   "source": [
    "<div>\n",
    "Due to this concern, this notebook will treat fetal_health as a categorical variable and will examine the relationships between it and other measures in a classification setting.\n",
    "</div>"
   ]
  },
  {
   "cell_type": "code",
   "execution_count": 255,
   "id": "d29867bf-4e82-4fb8-8bcf-da49e8da4072",
   "metadata": {},
   "outputs": [],
   "source": [
    "health_state_names = {1: 'Normal', 2: 'Suspect', 3: 'Pathological'}\n",
    "health_state_names_order = ['Normal', 'Suspect', 'Pathological']\n",
    "def rename_target(row):\n",
    "    row['fetal_health_name'] = health_state_names[row['fetal_health']]\n",
    "    return row"
   ]
  },
  {
   "cell_type": "code",
   "execution_count": 256,
   "id": "25163ca4-9573-492f-8a00-1d7f912dead2",
   "metadata": {},
   "outputs": [],
   "source": [
    "health_data = health_data.apply(rename_target, axis=1)\n",
    "# health_data['fetal_health_name'] = pd.Categorical(health_data['fetal_health_name'], [1, 2, 3])\n"
   ]
  },
  {
   "cell_type": "code",
   "execution_count": 257,
   "id": "30220ff3-3f52-4900-b623-c49bb404210d",
   "metadata": {},
   "outputs": [
    {
     "data": {
      "text/html": [
       "<div>\n",
       "<style scoped>\n",
       "    .dataframe tbody tr th:only-of-type {\n",
       "        vertical-align: middle;\n",
       "    }\n",
       "\n",
       "    .dataframe tbody tr th {\n",
       "        vertical-align: top;\n",
       "    }\n",
       "\n",
       "    .dataframe thead th {\n",
       "        text-align: right;\n",
       "    }\n",
       "</style>\n",
       "<table border=\"1\" class=\"dataframe\">\n",
       "  <thead>\n",
       "    <tr style=\"text-align: right;\">\n",
       "      <th></th>\n",
       "      <th>baseline value</th>\n",
       "      <th>accelerations</th>\n",
       "      <th>fetal_movement</th>\n",
       "      <th>uterine_contractions</th>\n",
       "      <th>light_decelerations</th>\n",
       "      <th>severe_decelerations</th>\n",
       "      <th>prolongued_decelerations</th>\n",
       "      <th>abnormal_short_term_variability</th>\n",
       "      <th>mean_value_of_short_term_variability</th>\n",
       "      <th>percentage_of_time_with_abnormal_long_term_variability</th>\n",
       "      <th>...</th>\n",
       "      <th>histogram_max</th>\n",
       "      <th>histogram_number_of_peaks</th>\n",
       "      <th>histogram_number_of_zeroes</th>\n",
       "      <th>histogram_mode</th>\n",
       "      <th>histogram_mean</th>\n",
       "      <th>histogram_median</th>\n",
       "      <th>histogram_variance</th>\n",
       "      <th>histogram_tendency</th>\n",
       "      <th>fetal_health</th>\n",
       "      <th>fetal_health_name</th>\n",
       "    </tr>\n",
       "  </thead>\n",
       "  <tbody>\n",
       "    <tr>\n",
       "      <th>0</th>\n",
       "      <td>120.0</td>\n",
       "      <td>0.000</td>\n",
       "      <td>0.000</td>\n",
       "      <td>0.000</td>\n",
       "      <td>0.000</td>\n",
       "      <td>0.0</td>\n",
       "      <td>0.0</td>\n",
       "      <td>73.0</td>\n",
       "      <td>0.5</td>\n",
       "      <td>43.0</td>\n",
       "      <td>...</td>\n",
       "      <td>126.0</td>\n",
       "      <td>2.0</td>\n",
       "      <td>0.0</td>\n",
       "      <td>120.0</td>\n",
       "      <td>137.0</td>\n",
       "      <td>121.0</td>\n",
       "      <td>73.0</td>\n",
       "      <td>1.0</td>\n",
       "      <td>2.0</td>\n",
       "      <td>Suspect</td>\n",
       "    </tr>\n",
       "    <tr>\n",
       "      <th>1</th>\n",
       "      <td>132.0</td>\n",
       "      <td>0.006</td>\n",
       "      <td>0.000</td>\n",
       "      <td>0.006</td>\n",
       "      <td>0.003</td>\n",
       "      <td>0.0</td>\n",
       "      <td>0.0</td>\n",
       "      <td>17.0</td>\n",
       "      <td>2.1</td>\n",
       "      <td>0.0</td>\n",
       "      <td>...</td>\n",
       "      <td>198.0</td>\n",
       "      <td>6.0</td>\n",
       "      <td>1.0</td>\n",
       "      <td>141.0</td>\n",
       "      <td>136.0</td>\n",
       "      <td>140.0</td>\n",
       "      <td>12.0</td>\n",
       "      <td>0.0</td>\n",
       "      <td>1.0</td>\n",
       "      <td>Normal</td>\n",
       "    </tr>\n",
       "    <tr>\n",
       "      <th>2</th>\n",
       "      <td>133.0</td>\n",
       "      <td>0.003</td>\n",
       "      <td>0.000</td>\n",
       "      <td>0.008</td>\n",
       "      <td>0.003</td>\n",
       "      <td>0.0</td>\n",
       "      <td>0.0</td>\n",
       "      <td>16.0</td>\n",
       "      <td>2.1</td>\n",
       "      <td>0.0</td>\n",
       "      <td>...</td>\n",
       "      <td>198.0</td>\n",
       "      <td>5.0</td>\n",
       "      <td>1.0</td>\n",
       "      <td>141.0</td>\n",
       "      <td>135.0</td>\n",
       "      <td>138.0</td>\n",
       "      <td>13.0</td>\n",
       "      <td>0.0</td>\n",
       "      <td>1.0</td>\n",
       "      <td>Normal</td>\n",
       "    </tr>\n",
       "    <tr>\n",
       "      <th>3</th>\n",
       "      <td>134.0</td>\n",
       "      <td>0.003</td>\n",
       "      <td>0.000</td>\n",
       "      <td>0.008</td>\n",
       "      <td>0.003</td>\n",
       "      <td>0.0</td>\n",
       "      <td>0.0</td>\n",
       "      <td>16.0</td>\n",
       "      <td>2.4</td>\n",
       "      <td>0.0</td>\n",
       "      <td>...</td>\n",
       "      <td>170.0</td>\n",
       "      <td>11.0</td>\n",
       "      <td>0.0</td>\n",
       "      <td>137.0</td>\n",
       "      <td>134.0</td>\n",
       "      <td>137.0</td>\n",
       "      <td>13.0</td>\n",
       "      <td>1.0</td>\n",
       "      <td>1.0</td>\n",
       "      <td>Normal</td>\n",
       "    </tr>\n",
       "    <tr>\n",
       "      <th>4</th>\n",
       "      <td>132.0</td>\n",
       "      <td>0.007</td>\n",
       "      <td>0.000</td>\n",
       "      <td>0.008</td>\n",
       "      <td>0.000</td>\n",
       "      <td>0.0</td>\n",
       "      <td>0.0</td>\n",
       "      <td>16.0</td>\n",
       "      <td>2.4</td>\n",
       "      <td>0.0</td>\n",
       "      <td>...</td>\n",
       "      <td>170.0</td>\n",
       "      <td>9.0</td>\n",
       "      <td>0.0</td>\n",
       "      <td>137.0</td>\n",
       "      <td>136.0</td>\n",
       "      <td>138.0</td>\n",
       "      <td>11.0</td>\n",
       "      <td>1.0</td>\n",
       "      <td>1.0</td>\n",
       "      <td>Normal</td>\n",
       "    </tr>\n",
       "    <tr>\n",
       "      <th>...</th>\n",
       "      <td>...</td>\n",
       "      <td>...</td>\n",
       "      <td>...</td>\n",
       "      <td>...</td>\n",
       "      <td>...</td>\n",
       "      <td>...</td>\n",
       "      <td>...</td>\n",
       "      <td>...</td>\n",
       "      <td>...</td>\n",
       "      <td>...</td>\n",
       "      <td>...</td>\n",
       "      <td>...</td>\n",
       "      <td>...</td>\n",
       "      <td>...</td>\n",
       "      <td>...</td>\n",
       "      <td>...</td>\n",
       "      <td>...</td>\n",
       "      <td>...</td>\n",
       "      <td>...</td>\n",
       "      <td>...</td>\n",
       "      <td>...</td>\n",
       "    </tr>\n",
       "    <tr>\n",
       "      <th>2121</th>\n",
       "      <td>140.0</td>\n",
       "      <td>0.000</td>\n",
       "      <td>0.000</td>\n",
       "      <td>0.007</td>\n",
       "      <td>0.000</td>\n",
       "      <td>0.0</td>\n",
       "      <td>0.0</td>\n",
       "      <td>79.0</td>\n",
       "      <td>0.2</td>\n",
       "      <td>25.0</td>\n",
       "      <td>...</td>\n",
       "      <td>177.0</td>\n",
       "      <td>4.0</td>\n",
       "      <td>0.0</td>\n",
       "      <td>153.0</td>\n",
       "      <td>150.0</td>\n",
       "      <td>152.0</td>\n",
       "      <td>2.0</td>\n",
       "      <td>0.0</td>\n",
       "      <td>2.0</td>\n",
       "      <td>Suspect</td>\n",
       "    </tr>\n",
       "    <tr>\n",
       "      <th>2122</th>\n",
       "      <td>140.0</td>\n",
       "      <td>0.001</td>\n",
       "      <td>0.000</td>\n",
       "      <td>0.007</td>\n",
       "      <td>0.000</td>\n",
       "      <td>0.0</td>\n",
       "      <td>0.0</td>\n",
       "      <td>78.0</td>\n",
       "      <td>0.4</td>\n",
       "      <td>22.0</td>\n",
       "      <td>...</td>\n",
       "      <td>169.0</td>\n",
       "      <td>6.0</td>\n",
       "      <td>0.0</td>\n",
       "      <td>152.0</td>\n",
       "      <td>148.0</td>\n",
       "      <td>151.0</td>\n",
       "      <td>3.0</td>\n",
       "      <td>1.0</td>\n",
       "      <td>2.0</td>\n",
       "      <td>Suspect</td>\n",
       "    </tr>\n",
       "    <tr>\n",
       "      <th>2123</th>\n",
       "      <td>140.0</td>\n",
       "      <td>0.001</td>\n",
       "      <td>0.000</td>\n",
       "      <td>0.007</td>\n",
       "      <td>0.000</td>\n",
       "      <td>0.0</td>\n",
       "      <td>0.0</td>\n",
       "      <td>79.0</td>\n",
       "      <td>0.4</td>\n",
       "      <td>20.0</td>\n",
       "      <td>...</td>\n",
       "      <td>170.0</td>\n",
       "      <td>5.0</td>\n",
       "      <td>0.0</td>\n",
       "      <td>153.0</td>\n",
       "      <td>148.0</td>\n",
       "      <td>152.0</td>\n",
       "      <td>4.0</td>\n",
       "      <td>1.0</td>\n",
       "      <td>2.0</td>\n",
       "      <td>Suspect</td>\n",
       "    </tr>\n",
       "    <tr>\n",
       "      <th>2124</th>\n",
       "      <td>140.0</td>\n",
       "      <td>0.001</td>\n",
       "      <td>0.000</td>\n",
       "      <td>0.006</td>\n",
       "      <td>0.000</td>\n",
       "      <td>0.0</td>\n",
       "      <td>0.0</td>\n",
       "      <td>78.0</td>\n",
       "      <td>0.4</td>\n",
       "      <td>27.0</td>\n",
       "      <td>...</td>\n",
       "      <td>169.0</td>\n",
       "      <td>6.0</td>\n",
       "      <td>0.0</td>\n",
       "      <td>152.0</td>\n",
       "      <td>147.0</td>\n",
       "      <td>151.0</td>\n",
       "      <td>4.0</td>\n",
       "      <td>1.0</td>\n",
       "      <td>2.0</td>\n",
       "      <td>Suspect</td>\n",
       "    </tr>\n",
       "    <tr>\n",
       "      <th>2125</th>\n",
       "      <td>142.0</td>\n",
       "      <td>0.002</td>\n",
       "      <td>0.002</td>\n",
       "      <td>0.008</td>\n",
       "      <td>0.000</td>\n",
       "      <td>0.0</td>\n",
       "      <td>0.0</td>\n",
       "      <td>74.0</td>\n",
       "      <td>0.4</td>\n",
       "      <td>36.0</td>\n",
       "      <td>...</td>\n",
       "      <td>159.0</td>\n",
       "      <td>2.0</td>\n",
       "      <td>1.0</td>\n",
       "      <td>145.0</td>\n",
       "      <td>143.0</td>\n",
       "      <td>145.0</td>\n",
       "      <td>1.0</td>\n",
       "      <td>0.0</td>\n",
       "      <td>1.0</td>\n",
       "      <td>Normal</td>\n",
       "    </tr>\n",
       "  </tbody>\n",
       "</table>\n",
       "<p>2126 rows × 23 columns</p>\n",
       "</div>"
      ],
      "text/plain": [
       "      baseline value  accelerations  fetal_movement  uterine_contractions  \\\n",
       "0              120.0          0.000           0.000                 0.000   \n",
       "1              132.0          0.006           0.000                 0.006   \n",
       "2              133.0          0.003           0.000                 0.008   \n",
       "3              134.0          0.003           0.000                 0.008   \n",
       "4              132.0          0.007           0.000                 0.008   \n",
       "...              ...            ...             ...                   ...   \n",
       "2121           140.0          0.000           0.000                 0.007   \n",
       "2122           140.0          0.001           0.000                 0.007   \n",
       "2123           140.0          0.001           0.000                 0.007   \n",
       "2124           140.0          0.001           0.000                 0.006   \n",
       "2125           142.0          0.002           0.002                 0.008   \n",
       "\n",
       "      light_decelerations  severe_decelerations  prolongued_decelerations  \\\n",
       "0                   0.000                   0.0                       0.0   \n",
       "1                   0.003                   0.0                       0.0   \n",
       "2                   0.003                   0.0                       0.0   \n",
       "3                   0.003                   0.0                       0.0   \n",
       "4                   0.000                   0.0                       0.0   \n",
       "...                   ...                   ...                       ...   \n",
       "2121                0.000                   0.0                       0.0   \n",
       "2122                0.000                   0.0                       0.0   \n",
       "2123                0.000                   0.0                       0.0   \n",
       "2124                0.000                   0.0                       0.0   \n",
       "2125                0.000                   0.0                       0.0   \n",
       "\n",
       "      abnormal_short_term_variability  mean_value_of_short_term_variability  \\\n",
       "0                                73.0                                   0.5   \n",
       "1                                17.0                                   2.1   \n",
       "2                                16.0                                   2.1   \n",
       "3                                16.0                                   2.4   \n",
       "4                                16.0                                   2.4   \n",
       "...                               ...                                   ...   \n",
       "2121                             79.0                                   0.2   \n",
       "2122                             78.0                                   0.4   \n",
       "2123                             79.0                                   0.4   \n",
       "2124                             78.0                                   0.4   \n",
       "2125                             74.0                                   0.4   \n",
       "\n",
       "      percentage_of_time_with_abnormal_long_term_variability  ...  \\\n",
       "0                                                  43.0       ...   \n",
       "1                                                   0.0       ...   \n",
       "2                                                   0.0       ...   \n",
       "3                                                   0.0       ...   \n",
       "4                                                   0.0       ...   \n",
       "...                                                 ...       ...   \n",
       "2121                                               25.0       ...   \n",
       "2122                                               22.0       ...   \n",
       "2123                                               20.0       ...   \n",
       "2124                                               27.0       ...   \n",
       "2125                                               36.0       ...   \n",
       "\n",
       "      histogram_max  histogram_number_of_peaks  histogram_number_of_zeroes  \\\n",
       "0             126.0                        2.0                         0.0   \n",
       "1             198.0                        6.0                         1.0   \n",
       "2             198.0                        5.0                         1.0   \n",
       "3             170.0                       11.0                         0.0   \n",
       "4             170.0                        9.0                         0.0   \n",
       "...             ...                        ...                         ...   \n",
       "2121          177.0                        4.0                         0.0   \n",
       "2122          169.0                        6.0                         0.0   \n",
       "2123          170.0                        5.0                         0.0   \n",
       "2124          169.0                        6.0                         0.0   \n",
       "2125          159.0                        2.0                         1.0   \n",
       "\n",
       "      histogram_mode  histogram_mean  histogram_median  histogram_variance  \\\n",
       "0              120.0           137.0             121.0                73.0   \n",
       "1              141.0           136.0             140.0                12.0   \n",
       "2              141.0           135.0             138.0                13.0   \n",
       "3              137.0           134.0             137.0                13.0   \n",
       "4              137.0           136.0             138.0                11.0   \n",
       "...              ...             ...               ...                 ...   \n",
       "2121           153.0           150.0             152.0                 2.0   \n",
       "2122           152.0           148.0             151.0                 3.0   \n",
       "2123           153.0           148.0             152.0                 4.0   \n",
       "2124           152.0           147.0             151.0                 4.0   \n",
       "2125           145.0           143.0             145.0                 1.0   \n",
       "\n",
       "      histogram_tendency  fetal_health  fetal_health_name  \n",
       "0                    1.0           2.0            Suspect  \n",
       "1                    0.0           1.0             Normal  \n",
       "2                    0.0           1.0             Normal  \n",
       "3                    1.0           1.0             Normal  \n",
       "4                    1.0           1.0             Normal  \n",
       "...                  ...           ...                ...  \n",
       "2121                 0.0           2.0            Suspect  \n",
       "2122                 1.0           2.0            Suspect  \n",
       "2123                 1.0           2.0            Suspect  \n",
       "2124                 1.0           2.0            Suspect  \n",
       "2125                 0.0           1.0             Normal  \n",
       "\n",
       "[2126 rows x 23 columns]"
      ]
     },
     "execution_count": 257,
     "metadata": {},
     "output_type": "execute_result"
    }
   ],
   "source": [
    "health_data"
   ]
  },
  {
   "cell_type": "code",
   "execution_count": 234,
   "id": "4693323b-00a8-48b1-affc-dafd03eab2f4",
   "metadata": {},
   "outputs": [
    {
     "data": {
      "text/plain": [
       "<Axes: xlabel='fetal_health_name', ylabel='count'>"
      ]
     },
     "execution_count": 234,
     "metadata": {},
     "output_type": "execute_result"
    },
    {
     "data": {
      "image/png": "[encoded data removed]",
      "text/plain": [
       "<Figure size 640x480 with 1 Axes>"
      ]
     },
     "metadata": {},
     "output_type": "display_data"
    }
   ],
   "source": [
    "sns.countplot(data= health_data, x=\"fetal_health_name\", alpha=0.5, color='#05b0a3')"
   ]
  },
  {
   "cell_type": "markdown",
   "id": "02596088-a866-4e17-896b-b97916fbbde1",
   "metadata": {},
   "source": [
    "<b>We see that the majority of the records have fetal_health normal. Given this imbalance in data, when diagnosing the accuracy of models, we cannot reply solely on the misclarification rate. Instead, we need to look at other measures such as precision and recall to gauge model accuracy.</b>"
   ]
  },
  {
   "cell_type": "markdown",
   "id": "bc6cd00f-c6b8-457c-8ba9-180dc30d5a2a",
   "metadata": {},
   "source": [
    "<div style=\"font-size: 25px\"><b>fetal_movement and uterine_contractions</b></div>\n"
   ]
  },
  {
   "cell_type": "markdown",
   "id": "1029a97e-0d4b-45ee-b4cf-ea5a7f43321d",
   "metadata": {},
   "source": [
    "Most of the feature variables are around fetal heart rate. The two exceptions are fetal_movement and uterine_contractions, so we will have a preliminary look at them first."
   ]
  },
  {
   "cell_type": "code",
   "execution_count": 232,
   "id": "d123a246-029e-4653-a759-a45b50e77feb",
   "metadata": {},
   "outputs": [],
   "source": [
    "def get_column_dist_by_fetal_health(col, health_data):\n",
    "    fig, axes = plt.subplots(2, 2, figsize=(16, 8))\n",
    "    fig.set_size_inches(12, 6)\n",
    "    ax1 = axes[0][0]\n",
    "    sns.barplot(x=col, y='fetal_health_name', data=health_data, color='#4D9DFF', order=health_state_names_order,\n",
    "                estimator=np.mean, errorbar=None, err_kws={'linewidth': 0}, ax=ax1)\n",
    "    for p in ax1.patches:\n",
    "        ax1.annotate(f'{p.get_width():.4f}', (p.get_x() + p.get_width() / 2., p.get_y() + p.get_height()),\n",
    "                    ha='center', va='center', xytext=(0, 20), textcoords='offset points', fontsize=10, color='black')\n",
    "    ax1.set_title(f'Mean {col} by fetal_health')\n",
    "    ax1.set_xlabel(col)\n",
    "    ax1.set_ylabel('')\n",
    "    sns.despine(left=True, bottom=True, ax=ax1)\n",
    "    \n",
    "    ax2 = axes[0][1]\n",
    "    sns.violinplot(x=col, y='fetal_health_name', data=health_data, color='#4D9DFF', order=health_state_names_order, ax=ax2)\n",
    "    ax2.set_title(f'Distribution of {col} by fetal_health')\n",
    "    ax2.set_ylabel(\"\")\n",
    "    # plt.yticks([])\n",
    "    sns.despine(left=True, bottom=True, ax=ax2)\n",
    "\n",
    "    ax3 = axes[1][0]\n",
    "    sns.barplot(x=col, y='fetal_health_name', data=health_data, color='#4D9DFF', order=health_state_names_order,\n",
    "                estimator=np.var, errorbar=None, err_kws={'linewidth': 0}, ax=ax3)\n",
    "    for p in ax3.patches:\n",
    "        ax3.annotate(f'{p.get_width():.4f}', (p.get_x() + p.get_width() / 2., p.get_y() + p.get_height()),\n",
    "                    ha='center', va='center', xytext=(0, 20), textcoords='offset points', fontsize=10, color='black')\n",
    "    ax3.set_title(f'Variance of {col} by fetal_health')\n",
    "    ax3.set_xlabel(col)\n",
    "    ax3.set_ylabel('')\n",
    "    sns.despine(left=True, bottom=True, ax=ax3)\n",
    "\n",
    "    ax4 = axes[1][1]\n",
    "    # sns.boxenplot(x=col, y='fetal_health_name', data=health_data, color='#4D9DFF', ax=ax4)\n",
    "    sns.boxplot(data=health_data, y='fetal_health_name', x=col, ax=ax4)\n",
    "    # ax4.set_xlabel(col)\n",
    "    # ax4.set_ylabel('')\n",
    "    # sns.despine(left=True, bottom=True, ax=ax4)\n",
    "\n",
    "    plt.subplots_adjust(hspace = 0.8)\n",
    "\n",
    "def get_column_description_by_fetal_health(col, health_data):\n",
    "    return health_data.groupby(['fetal_health', 'fetal_health_name'])[col].agg(['max', 'min', 'mean', 'var']).reset_index().sort_values(by='fetal_health').drop(['fetal_health'], axis=1)"
   ]
  },
  {
   "cell_type": "markdown",
   "id": "40283ce7-182e-42cc-8284-dbb7c889a3ca",
   "metadata": {},
   "source": [
    "<div style=\"font-size: 20px\"><b>fetal_movement</b></div>\n"
   ]
  },
  {
   "cell_type": "code",
   "execution_count": 233,
   "id": "44b9c22e-16a3-4a55-9283-4061494aa96f",
   "metadata": {},
   "outputs": [
    {
     "ename": "ValueError",
     "evalue": "List of boxplot statistics and `positions` values must have same the length",
     "output_type": "error",
     "traceback": [
      "\u001b[0;31m---------------------------------------------------------------------------\u001b[0m",
      "\u001b[0;31mValueError\u001b[0m                                Traceback (most recent call last)",
      "Cell \u001b[0;32mIn[233], line 1\u001b[0m\n\u001b[0;32m----> 1\u001b[0m \u001b[43mget_column_dist_by_fetal_health\u001b[49m\u001b[43m(\u001b[49m\u001b[38;5;124;43m'\u001b[39;49m\u001b[38;5;124;43mfetal_movement\u001b[39;49m\u001b[38;5;124;43m'\u001b[39;49m\u001b[43m,\u001b[49m\u001b[43m \u001b[49m\u001b[43mhealth_data\u001b[49m\u001b[43m)\u001b[49m\n",
      "Cell \u001b[0;32mIn[232], line 35\u001b[0m, in \u001b[0;36mget_column_dist_by_fetal_health\u001b[0;34m(col, health_data)\u001b[0m\n\u001b[1;32m     33\u001b[0m ax4 \u001b[38;5;241m=\u001b[39m axes[\u001b[38;5;241m1\u001b[39m][\u001b[38;5;241m1\u001b[39m]\n\u001b[1;32m     34\u001b[0m \u001b[38;5;66;03m# sns.boxenplot(x=col, y='fetal_health_name', data=health_data, color='#4D9DFF', ax=ax4)\u001b[39;00m\n\u001b[0;32m---> 35\u001b[0m \u001b[43msns\u001b[49m\u001b[38;5;241;43m.\u001b[39;49m\u001b[43mboxplot\u001b[49m\u001b[43m(\u001b[49m\u001b[43mdata\u001b[49m\u001b[38;5;241;43m=\u001b[39;49m\u001b[43mhealth_data\u001b[49m\u001b[43m,\u001b[49m\u001b[43m \u001b[49m\u001b[43my\u001b[49m\u001b[38;5;241;43m=\u001b[39;49m\u001b[38;5;124;43m'\u001b[39;49m\u001b[38;5;124;43mfetal_health_name\u001b[39;49m\u001b[38;5;124;43m'\u001b[39;49m\u001b[43m,\u001b[49m\u001b[43m \u001b[49m\u001b[43mx\u001b[49m\u001b[38;5;241;43m=\u001b[39;49m\u001b[43mcol\u001b[49m\u001b[43m,\u001b[49m\u001b[43m \u001b[49m\u001b[43max\u001b[49m\u001b[38;5;241;43m=\u001b[39;49m\u001b[43max4\u001b[49m\u001b[43m)\u001b[49m\n\u001b[1;32m     36\u001b[0m \u001b[38;5;66;03m# ax4.set_xlabel(col)\u001b[39;00m\n\u001b[1;32m     37\u001b[0m \u001b[38;5;66;03m# ax4.set_ylabel('')\u001b[39;00m\n\u001b[1;32m     38\u001b[0m \u001b[38;5;66;03m# sns.despine(left=True, bottom=True, ax=ax4)\u001b[39;00m\n\u001b[1;32m     40\u001b[0m plt\u001b[38;5;241m.\u001b[39msubplots_adjust(hspace \u001b[38;5;241m=\u001b[39m \u001b[38;5;241m0.8\u001b[39m)\n",
      "File \u001b[0;32m~/miniconda3/envs/data/lib/python3.11/site-packages/seaborn/categorical.py:1634\u001b[0m, in \u001b[0;36mboxplot\u001b[0;34m(data, x, y, hue, order, hue_order, orient, color, palette, saturation, fill, dodge, width, gap, whis, linecolor, linewidth, fliersize, hue_norm, native_scale, log_scale, formatter, legend, ax, **kwargs)\u001b[0m\n\u001b[1;32m   1627\u001b[0m color \u001b[38;5;241m=\u001b[39m _default_color(\n\u001b[1;32m   1628\u001b[0m     ax\u001b[38;5;241m.\u001b[39mfill_between, hue, color,\n\u001b[1;32m   1629\u001b[0m     {k: v \u001b[38;5;28;01mfor\u001b[39;00m k, v \u001b[38;5;129;01min\u001b[39;00m kwargs\u001b[38;5;241m.\u001b[39mitems() \u001b[38;5;28;01mif\u001b[39;00m k \u001b[38;5;129;01min\u001b[39;00m [\u001b[38;5;124m\"\u001b[39m\u001b[38;5;124mc\u001b[39m\u001b[38;5;124m\"\u001b[39m, \u001b[38;5;124m\"\u001b[39m\u001b[38;5;124mcolor\u001b[39m\u001b[38;5;124m\"\u001b[39m, \u001b[38;5;124m\"\u001b[39m\u001b[38;5;124mfc\u001b[39m\u001b[38;5;124m\"\u001b[39m, \u001b[38;5;124m\"\u001b[39m\u001b[38;5;124mfacecolor\u001b[39m\u001b[38;5;124m\"\u001b[39m]},\n\u001b[1;32m   1630\u001b[0m     saturation\u001b[38;5;241m=\u001b[39msaturation,\n\u001b[1;32m   1631\u001b[0m )\n\u001b[1;32m   1632\u001b[0m linecolor \u001b[38;5;241m=\u001b[39m p\u001b[38;5;241m.\u001b[39m_complement_color(linecolor, color, p\u001b[38;5;241m.\u001b[39m_hue_map)\n\u001b[0;32m-> 1634\u001b[0m \u001b[43mp\u001b[49m\u001b[38;5;241;43m.\u001b[39;49m\u001b[43mplot_boxes\u001b[49m\u001b[43m(\u001b[49m\n\u001b[1;32m   1635\u001b[0m \u001b[43m    \u001b[49m\u001b[43mwidth\u001b[49m\u001b[38;5;241;43m=\u001b[39;49m\u001b[43mwidth\u001b[49m\u001b[43m,\u001b[49m\n\u001b[1;32m   1636\u001b[0m \u001b[43m    \u001b[49m\u001b[43mdodge\u001b[49m\u001b[38;5;241;43m=\u001b[39;49m\u001b[43mdodge\u001b[49m\u001b[43m,\u001b[49m\n\u001b[1;32m   1637\u001b[0m \u001b[43m    \u001b[49m\u001b[43mgap\u001b[49m\u001b[38;5;241;43m=\u001b[39;49m\u001b[43mgap\u001b[49m\u001b[43m,\u001b[49m\n\u001b[1;32m   1638\u001b[0m \u001b[43m    \u001b[49m\u001b[43mfill\u001b[49m\u001b[38;5;241;43m=\u001b[39;49m\u001b[43mfill\u001b[49m\u001b[43m,\u001b[49m\n\u001b[1;32m   1639\u001b[0m \u001b[43m    \u001b[49m\u001b[43mwhis\u001b[49m\u001b[38;5;241;43m=\u001b[39;49m\u001b[43mwhis\u001b[49m\u001b[43m,\u001b[49m\n\u001b[1;32m   1640\u001b[0m \u001b[43m    \u001b[49m\u001b[43mcolor\u001b[49m\u001b[38;5;241;43m=\u001b[39;49m\u001b[43mcolor\u001b[49m\u001b[43m,\u001b[49m\n\u001b[1;32m   1641\u001b[0m \u001b[43m    \u001b[49m\u001b[43mlinecolor\u001b[49m\u001b[38;5;241;43m=\u001b[39;49m\u001b[43mlinecolor\u001b[49m\u001b[43m,\u001b[49m\n\u001b[1;32m   1642\u001b[0m \u001b[43m    \u001b[49m\u001b[43mlinewidth\u001b[49m\u001b[38;5;241;43m=\u001b[39;49m\u001b[43mlinewidth\u001b[49m\u001b[43m,\u001b[49m\n\u001b[1;32m   1643\u001b[0m \u001b[43m    \u001b[49m\u001b[43mfliersize\u001b[49m\u001b[38;5;241;43m=\u001b[39;49m\u001b[43mfliersize\u001b[49m\u001b[43m,\u001b[49m\n\u001b[1;32m   1644\u001b[0m \u001b[43m    \u001b[49m\u001b[43mplot_kws\u001b[49m\u001b[38;5;241;43m=\u001b[39;49m\u001b[43mkwargs\u001b[49m\u001b[43m,\u001b[49m\n\u001b[1;32m   1645\u001b[0m \u001b[43m\u001b[49m\u001b[43m)\u001b[49m\n\u001b[1;32m   1647\u001b[0m p\u001b[38;5;241m.\u001b[39m_add_axis_labels(ax)\n\u001b[1;32m   1648\u001b[0m p\u001b[38;5;241m.\u001b[39m_adjust_cat_axis(ax, axis\u001b[38;5;241m=\u001b[39mp\u001b[38;5;241m.\u001b[39morient)\n",
      "File \u001b[0;32m~/miniconda3/envs/data/lib/python3.11/site-packages/seaborn/categorical.py:700\u001b[0m, in \u001b[0;36m_CategoricalPlotter.plot_boxes\u001b[0;34m(self, width, dodge, gap, fill, whis, color, linecolor, linewidth, fliersize, plot_kws)\u001b[0m\n\u001b[1;32m    679\u001b[0m default_kws \u001b[38;5;241m=\u001b[39m \u001b[38;5;28mdict\u001b[39m(\n\u001b[1;32m    680\u001b[0m     bxpstats\u001b[38;5;241m=\u001b[39mstats\u001b[38;5;241m.\u001b[39mto_dict(\u001b[38;5;124m\"\u001b[39m\u001b[38;5;124mrecords\u001b[39m\u001b[38;5;124m\"\u001b[39m),\n\u001b[1;32m    681\u001b[0m     positions\u001b[38;5;241m=\u001b[39mdata[\u001b[38;5;28mself\u001b[39m\u001b[38;5;241m.\u001b[39morient],\n\u001b[0;32m   (...)\u001b[0m\n\u001b[1;32m    697\u001b[0m     )\n\u001b[1;32m    698\u001b[0m )\n\u001b[1;32m    699\u001b[0m boxplot_kws \u001b[38;5;241m=\u001b[39m {\u001b[38;5;241m*\u001b[39m\u001b[38;5;241m*\u001b[39mdefault_kws, \u001b[38;5;241m*\u001b[39m\u001b[38;5;241m*\u001b[39mplot_kws}\n\u001b[0;32m--> 700\u001b[0m artists \u001b[38;5;241m=\u001b[39m \u001b[43max\u001b[49m\u001b[38;5;241;43m.\u001b[39;49m\u001b[43mbxp\u001b[49m\u001b[43m(\u001b[49m\u001b[38;5;241;43m*\u001b[39;49m\u001b[38;5;241;43m*\u001b[39;49m\u001b[43mboxplot_kws\u001b[49m\u001b[43m)\u001b[49m\n\u001b[1;32m    702\u001b[0m \u001b[38;5;66;03m# Reset artist widths after adding so everything stays positive\u001b[39;00m\n\u001b[1;32m    703\u001b[0m ori_idx \u001b[38;5;241m=\u001b[39m [\u001b[38;5;124m\"\u001b[39m\u001b[38;5;124mx\u001b[39m\u001b[38;5;124m\"\u001b[39m, \u001b[38;5;124m\"\u001b[39m\u001b[38;5;124my\u001b[39m\u001b[38;5;124m\"\u001b[39m]\u001b[38;5;241m.\u001b[39mindex(\u001b[38;5;28mself\u001b[39m\u001b[38;5;241m.\u001b[39morient)\n",
      "File \u001b[0;32m~/miniconda3/envs/data/lib/python3.11/site-packages/matplotlib/axes/_axes.py:4350\u001b[0m, in \u001b[0;36mAxes.bxp\u001b[0;34m(self, bxpstats, positions, widths, vert, patch_artist, shownotches, showmeans, showcaps, showbox, showfliers, boxprops, whiskerprops, flierprops, medianprops, capprops, meanprops, meanline, manage_ticks, zorder, capwidths, label)\u001b[0m\n\u001b[1;32m   4348\u001b[0m     positions \u001b[38;5;241m=\u001b[39m \u001b[38;5;28mlist\u001b[39m(\u001b[38;5;28mrange\u001b[39m(\u001b[38;5;241m1\u001b[39m, N \u001b[38;5;241m+\u001b[39m \u001b[38;5;241m1\u001b[39m))\n\u001b[1;32m   4349\u001b[0m \u001b[38;5;28;01melif\u001b[39;00m \u001b[38;5;28mlen\u001b[39m(positions) \u001b[38;5;241m!=\u001b[39m N:\n\u001b[0;32m-> 4350\u001b[0m     \u001b[38;5;28;01mraise\u001b[39;00m \u001b[38;5;167;01mValueError\u001b[39;00m(datashape_message\u001b[38;5;241m.\u001b[39mformat(\u001b[38;5;124m\"\u001b[39m\u001b[38;5;124mpositions\u001b[39m\u001b[38;5;124m\"\u001b[39m))\n\u001b[1;32m   4352\u001b[0m positions \u001b[38;5;241m=\u001b[39m np\u001b[38;5;241m.\u001b[39marray(positions)\n\u001b[1;32m   4353\u001b[0m \u001b[38;5;28;01mif\u001b[39;00m \u001b[38;5;28mlen\u001b[39m(positions) \u001b[38;5;241m>\u001b[39m \u001b[38;5;241m0\u001b[39m \u001b[38;5;129;01mand\u001b[39;00m \u001b[38;5;129;01mnot\u001b[39;00m \u001b[38;5;28mall\u001b[39m(\u001b[38;5;28misinstance\u001b[39m(p, Real) \u001b[38;5;28;01mfor\u001b[39;00m p \u001b[38;5;129;01min\u001b[39;00m positions):\n",
      "\u001b[0;31mValueError\u001b[0m: List of boxplot statistics and `positions` values must have same the length"
     ]
    },
    {
     "data": {
      "image/png": "[encoded data removed]",
      "text/plain": [
       "<Figure size 1200x600 with 4 Axes>"
      ]
     },
     "metadata": {},
     "output_type": "display_data"
    }
   ],
   "source": [
    "get_column_dist_by_fetal_health('fetal_movement', health_data)"
   ]
  },
  {
   "cell_type": "code",
   "execution_count": null,
   "id": "fc98ef18-4df5-40d4-a65c-5f4a19764721",
   "metadata": {},
   "outputs": [],
   "source": [
    "get_column_description_by_fetal_health('fetal_movement', health_data)"
   ]
  },
  {
   "cell_type": "markdown",
   "id": "c7ee7105-7469-42ab-b0a4-f2c7fd42d802",
   "metadata": {},
   "source": [
    "<b>The first plot shows that records with the Pathological class have higher mean fetal_movement. The second plot shows that this is due to a flatter distribution with more high values.</b>"
   ]
  },
  {
   "cell_type": "code",
   "execution_count": null,
   "id": "a80c574c-6253-4a3d-b0eb-aab44fd35614",
   "metadata": {},
   "outputs": [],
   "source": [
    "get_column_dist_by_fetal_health('uterine_contractions', health_data)"
   ]
  },
  {
   "cell_type": "code",
   "execution_count": null,
   "id": "879fb065-95eb-4435-b13c-c8cdee7f3ed3",
   "metadata": {},
   "outputs": [],
   "source": [
    "get_column_description_by_fetal_health('uterine_contractions', health_data)"
   ]
  },
  {
   "cell_type": "markdown",
   "id": "218df82d-d582-45e5-9f25-445a063b5450",
   "metadata": {},
   "source": [
    "<b>For uterine_contractions, records with the Pathological class also exhibit higher variability and a right skewed distribution. However, records with the Normal class have the highest mean value.</b>"
   ]
  },
  {
   "cell_type": "markdown",
   "id": "e97350f4-782f-493e-a922-4178e2e84ecd",
   "metadata": {},
   "source": [
    "<div style=\"font-size: 25px\"><b>Heart Rate Features</b></div>"
   ]
  },
  {
   "cell_type": "markdown",
   "id": "edf3e0ff-1f90-4ffc-97c9-49cbb926c2c3",
   "metadata": {},
   "source": [
    "health_data_numeric = health_data.drop('fetal_health_name', axis=1)\n",
    "\n",
    "corr = health_data_numeric.corr(method='pearson')\n",
    "fig, ax = plt.subplots(figsize=(20, 20))\n",
    "sns.heatmap(corr, annot=True, fmt='.2f', cmap='copper_r', cbar=None, linewidth=2, ax=ax)\n",
    "ax.set_title('Correlation between columns', fontsize=16, fontweight='bold')"
   ]
  },
  {
   "cell_type": "markdown",
   "id": "1b67fc8c-09e6-45ec-8a67-2c3347bd59e9",
   "metadata": {},
   "source": [
    "We see that the columns that have the highest correlation with fetal_health are \n",
    "<div>\n",
    "<div><b>accelerations</b></div>\n",
    "<div><b>prolongued_decelerations</b></div>\n",
    "<div><b>abnormal_short_term_variability</b></div>\n",
    "<div><b>percentage_of_time_with_abnormal_long_term_variability</b></div>\n",
    "<div><b>mean_value_of_long_term_variability</b></div>\n",
    "</div>"
   ]
  },
  {
   "cell_type": "markdown",
   "id": "c2a030cc-f239-48ed-9fd8-ec6a2dc4b6ab",
   "metadata": {},
   "source": [
    "We will now examine them individually."
   ]
  },
  {
   "cell_type": "markdown",
   "id": "df8eed91-7c05-4267-b870-e153792f0ec3",
   "metadata": {},
   "source": [
    "<div style=\"font-size: 20px\"><b>accelerations</b></div>"
   ]
  },
  {
   "cell_type": "code",
   "execution_count": null,
   "id": "5fa44d6f-e2ef-4bd8-a278-3e58271286e9",
   "metadata": {},
   "outputs": [],
   "source": [
    "get_column_dist_by_fetal_health('accelerations', health_data)"
   ]
  },
  {
   "cell_type": "code",
   "execution_count": null,
   "id": "25360dca-7ff9-4a53-a4ed-5364a13873d0",
   "metadata": {},
   "outputs": [],
   "source": [
    "get_column_description_by_fetal_health('accelerations', health_data)"
   ]
  },
  {
   "cell_type": "markdown",
   "id": "986702b3-141b-4119-a22f-db4e9827df16",
   "metadata": {},
   "source": [
    "<b>We see that normal records tend to have much higher acceleration.</b>"
   ]
  },
  {
   "cell_type": "markdown",
   "id": "eaf76e23-8af7-468c-b236-be1b4e3d96d2",
   "metadata": {},
   "source": [
    "The correlation between accelerations and histogram_max is also relatively high (0.39). It may be interesting to look at the relationship of these two variables for different health states."
   ]
  },
  {
   "cell_type": "code",
   "execution_count": null,
   "id": "e57b00ba-755c-4d36-aef3-a0bd1d82537a",
   "metadata": {},
   "outputs": [],
   "source": [
    "def get_lm_plot_by_fetal_health(col1, col2):\n",
    "    sns.lmplot(data =health_data,x=col1,y=col2, hue=\"fetal_health_name\")\n",
    "    plt.show()\n"
   ]
  },
  {
   "cell_type": "code",
   "execution_count": null,
   "id": "29822af8-0796-4b7c-8fb2-3689b431c7bf",
   "metadata": {},
   "outputs": [],
   "source": [
    "get_lm_plot_by_fetal_health('accelerations', 'histogram_max')"
   ]
  },
  {
   "cell_type": "markdown",
   "id": "dbc44a62-23a1-450e-b11b-888e55126236",
   "metadata": {},
   "source": [
    "<b>The above plot shows that, overall, a greater number of accelerations is associated with a higher heart rate max. However, this effect is more pronounced for suspect and pathological records.</b>"
   ]
  },
  {
   "cell_type": "code",
   "execution_count": null,
   "id": "a3408eef-cb3c-42af-b00c-1e29ef2dfc63",
   "metadata": {},
   "outputs": [],
   "source": [
    "get_lm_plot_by_fetal_health('accelerations', 'histogram_width')"
   ]
  },
  {
   "cell_type": "markdown",
   "id": "d851b7fe-aa09-453f-ad8c-f0c941f139f9",
   "metadata": {},
   "source": [
    "<b>A higher histogram_width is an indicator of greater variability in the the recorded heart rates in the exam. This plot shows that, with a larger number of accelerations, the heart rate also tends to be more varied.</b>"
   ]
  },
  {
   "cell_type": "markdown",
   "id": "c30e57eb-4447-4c98-a686-00c873555758",
   "metadata": {},
   "source": [
    "<div style=\"font-size: 20px\"><b>prolongued_decelerations</b></div>"
   ]
  },
  {
   "cell_type": "code",
   "execution_count": null,
   "id": "7a042390-c58c-4295-9b64-5e52de575c9d",
   "metadata": {},
   "outputs": [],
   "source": [
    "get_column_dist_by_fetal_health('prolongued_decelerations', health_data)"
   ]
  },
  {
   "cell_type": "code",
   "execution_count": null,
   "id": "1a26b06b-48c0-4e7f-aeb3-01675e161eaa",
   "metadata": {},
   "outputs": [],
   "source": [
    "get_column_description_by_fetal_health('prolongued_decelerations', health_data)"
   ]
  },
  {
   "cell_type": "markdown",
   "id": "3f0d715e-63a7-4c07-bbaf-57ba7032af84",
   "metadata": {},
   "source": [
    "<b>We see that records that are classified as pathological tend have a substantially higher mean prolongued_decelerations. </b>"
   ]
  },
  {
   "cell_type": "markdown",
   "id": "c64048b5-9484-4265-a634-4f2e1663518f",
   "metadata": {},
   "source": [
    "Notice also the high correlation between prolongued_decelerations and histogram_width, which is an indicator of variability in observerd heart rate."
   ]
  },
  {
   "cell_type": "code",
   "execution_count": null,
   "id": "184c8eaa-5997-4784-b717-3b7cc5c1a52b",
   "metadata": {},
   "outputs": [],
   "source": [
    "get_lm_plot_by_fetal_health('prolongued_decelerations', 'histogram_width')"
   ]
  },
  {
   "cell_type": "markdown",
   "id": "425d9c4b-eb24-4c32-bcad-b4c4b82cc06b",
   "metadata": {},
   "source": [
    "However, as the above plot shows, the relationship between these two measures are roughly the same for different classes."
   ]
  },
  {
   "cell_type": "markdown",
   "id": "f65a1f8a-ed09-4568-a94f-5f98dd10ffa3",
   "metadata": {},
   "source": [
    "<div style=\"font-size: 20px\"><b>abnormal_short_term_variability</b></div>"
   ]
  },
  {
   "cell_type": "code",
   "execution_count": null,
   "id": "a6afd4dd-2955-48e7-aa04-95e9bf19ead2",
   "metadata": {},
   "outputs": [],
   "source": [
    "get_column_dist_by_fetal_health('abnormal_short_term_variability', health_data)"
   ]
  },
  {
   "cell_type": "code",
   "execution_count": null,
   "id": "cf21314e-7372-435d-ae15-9bbe688934ad",
   "metadata": {},
   "outputs": [],
   "source": [
    "get_column_description_by_fetal_health('abnormal_short_term_variability', health_data)"
   ]
  },
  {
   "cell_type": "markdown",
   "id": "2d6236f5-6602-4722-a0e4-ae9dc0ddba69",
   "metadata": {},
   "source": [
    "<b>For records that are classified as suspect or pathological, abnormal_short_term_variability values tend to be higher on average and with lower variance. On the other hand, for normal records, the values show more variability while lying in a much lower range.</b>"
   ]
  },
  {
   "cell_type": "markdown",
   "id": "cdab6094-b52b-4903-b27b-7b51e9e8947b",
   "metadata": {},
   "source": [
    "<div style=\"font-size: 20px\"><b>percentage_of_time_with_abnormal_long_term_variability</b></div>"
   ]
  },
  {
   "cell_type": "code",
   "execution_count": null,
   "id": "e7f0998e-84ca-452d-8b79-2c74b726beed",
   "metadata": {},
   "outputs": [],
   "source": [
    "get_column_dist_by_fetal_health('percentage_of_time_with_abnormal_long_term_variability', health_data)"
   ]
  },
  {
   "cell_type": "code",
   "execution_count": null,
   "id": "aa303a90-f699-4bab-a55e-96b5c447cc35",
   "metadata": {},
   "outputs": [],
   "source": [
    "get_column_description_by_fetal_health('percentage_of_time_with_abnormal_long_term_variability', health_data)"
   ]
  },
  {
   "cell_type": "markdown",
   "id": "0ee3e9cd-0ebe-4a72-a877-36e1271c0732",
   "metadata": {},
   "source": [
    "<b>We see that normal records have much lower abnormal long term variability. Records that are classified as pathological have higher values on average and the percentages also exhibit more variability</b>"
   ]
  },
  {
   "cell_type": "markdown",
   "id": "1e6f6186-a449-4f25-b065-0893f448a066",
   "metadata": {},
   "source": [
    "Due to the similarity between what the columns percentage_of_time_with_abnormal_long_term_variability and abnormal_short_term_variability measure, we expect a high correlation between them."
   ]
  },
  {
   "cell_type": "code",
   "execution_count": null,
   "id": "faee96dc-0a22-45cf-af50-36a1d6d59839",
   "metadata": {},
   "outputs": [],
   "source": [
    "get_lm_plot_by_fetal_health('percentage_of_time_with_abnormal_long_term_variability', 'abnormal_short_term_variability')"
   ]
  },
  {
   "cell_type": "markdown",
   "id": "97c96a2a-5416-49dc-8e58-9e78cbe0f9a7",
   "metadata": {},
   "source": [
    "The relationship seems to be same for all classes. We can consider dropping one of the columns when developing models that are affected by the existence of highly correlated columns such linear regression."
   ]
  },
  {
   "cell_type": "markdown",
   "id": "637a2da7-7ab9-4b05-ad9b-3ae20ff2dc56",
   "metadata": {},
   "source": [
    "<div style=\"font-size: 20px\"><b>mean_value_of_long_term_variability</b></div>"
   ]
  },
  {
   "cell_type": "code",
   "execution_count": null,
   "id": "5c3fd80b-55d5-435e-be3a-5b67b5cfb499",
   "metadata": {},
   "outputs": [],
   "source": [
    "get_column_dist_by_fetal_health('mean_value_of_long_term_variability', health_data)"
   ]
  },
  {
   "cell_type": "code",
   "execution_count": null,
   "id": "522c5fd5-3746-4546-bbb2-ddc472987413",
   "metadata": {},
   "outputs": [],
   "source": [
    "get_column_description_by_fetal_health('mean_value_of_long_term_variability', health_data)"
   ]
  },
  {
   "cell_type": "markdown",
   "id": "901c9d17-a0b6-4df5-a435-b07622d62f76",
   "metadata": {},
   "source": [
    "<b>We see that pathological records have a much lower average of long term variabilities. It also is interesting to note that, in contrast to percentage_of_time_with_abnormal_long_term_variability, normal records show a higher variability overall than the other two classes.</b>"
   ]
  },
  {
   "cell_type": "code",
   "execution_count": null,
   "id": "dd79993a-0837-47c7-ac26-53ef8ecbf783",
   "metadata": {},
   "outputs": [],
   "source": [
    "sns.boxplot(data=health_data, y='fetal_health_name', x='fetal_movement')"
   ]
  },
  {
   "cell_type": "code",
   "execution_count": null,
   "id": "2418c903-21a3-44fa-b5b1-e8f8d51366bc",
   "metadata": {},
   "outputs": [],
   "source": []
  }
 ],
 "metadata": {
  "kernelspec": {
   "display_name": "Python 3 (ipykernel)",
   "language": "python",
   "name": "python3"
  },
  "language_info": {
   "codemirror_mode": {
    "name": "ipython",
    "version": 3
   },
   "file_extension": ".py",
   "mimetype": "text/x-python",
   "name": "python",
   "nbconvert_exporter": "python",
   "pygments_lexer": "ipython3",
   "version": "3.11.9"
  }
 },
 "nbformat": 4,
 "nbformat_minor": 5
}
