{
 "cells": [
  {
   "cell_type": "markdown",
   "id": "bf330cda-2568-492b-82cc-5c97cf798e73",
   "metadata": {},
   "source": [
    "<div style=\"font-size: 30px\"><b>Data Sources</b></div>"
   ]
  },
  {
   "cell_type": "markdown",
   "id": "f01ffedd-a9ba-469d-9a36-f1851a3c87f5",
   "metadata": {},
   "source": [
    "This project uses the Fetal Health dataset from https://www.kaggle.com/datasets/andrewmvd/fetal-health-classification. \n",
    "\n",
    "As required by the data source, we cite the following article\n",
    "\n",
    "<i>Ayres de Campos et al. (2000) SisPorto 2.0 A Program for Automated Analysis of Cardiotocograms. J Matern Fetal Med 5:311-318</i>"
   ]
  },
  {
   "cell_type": "markdown",
   "id": "78c9fbc8-8179-4806-90a4-41351f3b4ebb",
   "metadata": {},
   "source": [
    "<div style=\"font-size: 30px\"><b>Project Objectives</b></div>"
   ]
  },
  {
   "cell_type": "markdown",
   "id": "3945b35c-22ad-4c57-9553-7956a0cadd5d",
   "metadata": {},
   "source": [
    "<div style=\"font-size: 20px\">The dataset contains observation records of Cardiotocogram (CTG) exams which are used to assess fetal health. The health state of each record is assigned by obstetritians into one of three classes: <b>normal</b>, <b>suspect</b> and <b>pathological</b>. The goal of this project is to explore the relationship between the CTG observation features with the health state and develop classification models that infer the latter from exam results.</div>"
   ]
  },
  {
   "cell_type": "markdown",
   "id": "0391d069-4d09-45c6-ae5d-2aeb9383c280",
   "metadata": {},
   "source": []
  },
  {
   "cell_type": "markdown",
   "id": "d6a06940-1430-44da-993d-3baa8c16d27e",
   "metadata": {},
   "source": [
    "<div style=\"font-size: 30px\"><b>Explorative Data Analysis</b></div>"
   ]
  },
  {
   "cell_type": "code",
   "execution_count": 2,
   "id": "94d8ef69-940d-4f06-b778-2f3b77e825d6",
   "metadata": {},
   "outputs": [],
   "source": [
    "import pandas as pd\n",
    "import numpy as np\n",
    "import seaborn as sns\n",
    "import matplotlib.pyplot as plt\n",
    "%matplotlib inline\n",
    "import seaborn as sns"
   ]
  },
  {
   "cell_type": "code",
   "execution_count": 3,
   "id": "a59b2be4-3b26-4c7a-9f34-726ce68ddd08",
   "metadata": {},
   "outputs": [],
   "source": [
    "health_data = pd.read_csv('fetal_health.csv')"
   ]
  },
  {
   "cell_type": "code",
   "execution_count": 6,
   "id": "2e5a8055-c2ab-4201-9c42-8f4e91d7af28",
   "metadata": {},
   "outputs": [
    {
     "data": {
      "text/plain": [
       "(2126, 22)"
      ]
     },
     "execution_count": 6,
     "metadata": {},
     "output_type": "execute_result"
    }
   ],
   "source": [
    "health_data.shape"
   ]
  },
  {
   "cell_type": "code",
   "execution_count": 8,
   "id": "55d89e85-fc37-4312-9c53-f38e54f5d0b7",
   "metadata": {},
   "outputs": [
    {
     "data": {
      "text/plain": [
       "baseline value                                            float64\n",
       "accelerations                                             float64\n",
       "fetal_movement                                            float64\n",
       "uterine_contractions                                      float64\n",
       "light_decelerations                                       float64\n",
       "severe_decelerations                                      float64\n",
       "prolongued_decelerations                                  float64\n",
       "abnormal_short_term_variability                           float64\n",
       "mean_value_of_short_term_variability                      float64\n",
       "percentage_of_time_with_abnormal_long_term_variability    float64\n",
       "mean_value_of_long_term_variability                       float64\n",
       "histogram_width                                           float64\n",
       "histogram_min                                             float64\n",
       "histogram_max                                             float64\n",
       "histogram_number_of_peaks                                 float64\n",
       "histogram_number_of_zeroes                                float64\n",
       "histogram_mode                                            float64\n",
       "histogram_mean                                            float64\n",
       "histogram_median                                          float64\n",
       "histogram_variance                                        float64\n",
       "histogram_tendency                                        float64\n",
       "fetal_health                                              float64\n",
       "dtype: object"
      ]
     },
     "execution_count": 8,
     "metadata": {},
     "output_type": "execute_result"
    }
   ],
   "source": [
    "health_data.dtypes"
   ]
  },
  {
   "cell_type": "code",
   "execution_count": null,
   "id": "5d14b33c-b803-424a-897e-bf7af17b6a55",
   "metadata": {},
   "outputs": [],
   "source": []
  }
 ],
 "metadata": {
  "kernelspec": {
   "display_name": "Python 3 (ipykernel)",
   "language": "python",
   "name": "python3"
  },
  "language_info": {
   "codemirror_mode": {
    "name": "ipython",
    "version": 3
   },
   "file_extension": ".py",
   "mimetype": "text/x-python",
   "name": "python",
   "nbconvert_exporter": "python",
   "pygments_lexer": "ipython3",
   "version": "3.11.9"
  }
 },
 "nbformat": 4,
 "nbformat_minor": 5
}
